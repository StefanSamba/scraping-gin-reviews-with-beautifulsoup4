{
 "cells": [
  {
   "cell_type": "code",
   "execution_count": 1,
   "metadata": {},
   "outputs": [],
   "source": [
    "# Import libraries\n",
    "from bs4 import BeautifulSoup\n",
    "\n",
    "import pandas as pd\n",
    "import requests\n"
   ]
  },
  {
   "cell_type": "code",
   "execution_count": 7,
   "metadata": {},
   "outputs": [],
   "source": [
    "# Functions \n",
    "\n",
    "def extract_data(gin_item):\n",
    "    \"\"\"Take a list item / gin item and extracts data from it.\n",
    "\n",
    "    Args:\n",
    "        gin_item (bs4.element.Tag): html list item.\n",
    "    Returns:\n",
    "        dict: key-value pairs of data extracted from the gin item. For example:\n",
    "            {\n",
    "                'brand': '#Gin (Hashtag Gin)',\n",
    "                'distillery': 'O.H.S.O Brewery & Distillery',\n",
    "                'href': 'https://theginisin.com/gin-reviews/hashtag-gin/',\n",
    "                'rating': '2.5'\n",
    "            }\n",
    "    \"\"\"\n",
    "    data = {}\n",
    "    h4_class = gin_item.find(\"h4\")\n",
    "    data[\"brand\"] = h4_class.get(\"data-brand\")\n",
    "    data[\"distillery\"] = h4_class.get(\"data-distillery\")\n",
    "    data[\"href\"] = gin_item.find(\"a\", {\"class\": \"distill-link\"}).get(\"href\")\n",
    "    data[\"rating\"] = gin_item.find(\"span\", {\"class\": \"rating\"}).get(\"data-score\")\n",
    "\n",
    "    return data"
   ]
  },
  {
   "cell_type": "code",
   "execution_count": 2,
   "metadata": {},
   "outputs": [],
   "source": [
    "# The base url from where we're going to extract gins\n",
    "BASE_URL = \"https://theginisin.com/gin-reviews-list/\""
   ]
  },
  {
   "cell_type": "code",
   "execution_count": 3,
   "metadata": {},
   "outputs": [],
   "source": [
    "# Extract page content from our BASE_URL\n",
    "page = requests.get(BASE_URL)\n",
    "soup = BeautifulSoup(page.content, 'html.parser')\n",
    "\n",
    "# Find the review-list div and gathe all list items\n",
    "gin_review_list = soup.find(\"div\", {\"id\": \"review-list\"})\n",
    "gin_items = gin_review_list.find_all(\"li\")\n"
   ]
  },
  {
   "cell_type": "code",
   "execution_count": 8,
   "metadata": {},
   "outputs": [],
   "source": [
    "# Create a DataFrame with information from our gin list\n",
    "data = [extract_data(gin) for gin in gin_items]\n",
    "df = pd.DataFrame(data)\n"
   ]
  },
  {
   "cell_type": "code",
   "execution_count": 5,
   "metadata": {},
   "outputs": [
    {
     "data": {
      "text/html": [
       "<div>\n",
       "<style scoped>\n",
       "    .dataframe tbody tr th:only-of-type {\n",
       "        vertical-align: middle;\n",
       "    }\n",
       "\n",
       "    .dataframe tbody tr th {\n",
       "        vertical-align: top;\n",
       "    }\n",
       "\n",
       "    .dataframe thead th {\n",
       "        text-align: right;\n",
       "    }\n",
       "</style>\n",
       "<table border=\"1\" class=\"dataframe\">\n",
       "  <thead>\n",
       "    <tr style=\"text-align: right;\">\n",
       "      <th></th>\n",
       "      <th>brand</th>\n",
       "      <th>distillery</th>\n",
       "      <th>href</th>\n",
       "      <th>rating</th>\n",
       "    </tr>\n",
       "  </thead>\n",
       "  <tbody>\n",
       "    <tr>\n",
       "      <th>0</th>\n",
       "      <td>#Gin (Hashtag Gin)</td>\n",
       "      <td>O.H.S.O Brewery &amp; Distillery</td>\n",
       "      <td>https://theginisin.com/gin-reviews/hashtag-gin/</td>\n",
       "      <td>2.5</td>\n",
       "    </tr>\n",
       "    <tr>\n",
       "      <th>1</th>\n",
       "      <td>100 Mill St. Gin</td>\n",
       "      <td>100 Mill St Distillers</td>\n",
       "      <td>https://theginisin.com/gin-reviews/100-mill-st...</td>\n",
       "      <td>4.5</td>\n",
       "    </tr>\n",
       "    <tr>\n",
       "      <th>2</th>\n",
       "      <td>100 Mill St. Gin Lumberjack ‘n Jill Edition</td>\n",
       "      <td></td>\n",
       "      <td>https://theginisin.com/gin-reviews/100-mill-st...</td>\n",
       "      <td>4</td>\n",
       "    </tr>\n",
       "    <tr>\n",
       "      <th>3</th>\n",
       "      <td>1897 Quinine Gin</td>\n",
       "      <td>Maverick Drinks</td>\n",
       "      <td>https://theginisin.com/gin-reviews/1897-quinin...</td>\n",
       "      <td>3</td>\n",
       "    </tr>\n",
       "    <tr>\n",
       "      <th>4</th>\n",
       "      <td>269 Gin</td>\n",
       "      <td>Round Barn Distillery</td>\n",
       "      <td>https://theginisin.com/gin-reviews/269-gin/</td>\n",
       "      <td>3</td>\n",
       "    </tr>\n",
       "    <tr>\n",
       "      <th>5</th>\n",
       "      <td>3 Queens Gin</td>\n",
       "      <td>Doire Distiling</td>\n",
       "      <td>https://theginisin.com/gin-reviews/3-queens-gin/</td>\n",
       "      <td>3.5</td>\n",
       "    </tr>\n",
       "    <tr>\n",
       "      <th>6</th>\n",
       "      <td>4312 Gin</td>\n",
       "      <td></td>\n",
       "      <td>https://theginisin.com/gin-reviews/4312-gin/</td>\n",
       "      <td>4</td>\n",
       "    </tr>\n",
       "    <tr>\n",
       "      <th>7</th>\n",
       "      <td>50 Fathoms Gin</td>\n",
       "      <td>Port Chilkoot Distillery</td>\n",
       "      <td>https://theginisin.com/gin-reviews/50-fathoms-...</td>\n",
       "      <td>4.5</td>\n",
       "    </tr>\n",
       "    <tr>\n",
       "      <th>8</th>\n",
       "      <td>6 o’clock Gin</td>\n",
       "      <td></td>\n",
       "      <td>https://theginisin.com/gin-reviews/6-oclock-gin/</td>\n",
       "      <td>4</td>\n",
       "    </tr>\n",
       "    <tr>\n",
       "      <th>9</th>\n",
       "      <td>Abernathy Gin</td>\n",
       "      <td>Tenn South Distillery</td>\n",
       "      <td>https://theginisin.com/gin-reviews/abernathy-gin/</td>\n",
       "      <td>3</td>\n",
       "    </tr>\n",
       "  </tbody>\n",
       "</table>\n",
       "</div>"
      ],
      "text/plain": [
       "                                         brand                    distillery  \\\n",
       "0                           #Gin (Hashtag Gin)  O.H.S.O Brewery & Distillery   \n",
       "1                             100 Mill St. Gin        100 Mill St Distillers   \n",
       "2  100 Mill St. Gin Lumberjack ‘n Jill Edition                                 \n",
       "3                             1897 Quinine Gin               Maverick Drinks   \n",
       "4                                      269 Gin         Round Barn Distillery   \n",
       "5                                 3 Queens Gin               Doire Distiling   \n",
       "6                                     4312 Gin                                 \n",
       "7                               50 Fathoms Gin      Port Chilkoot Distillery   \n",
       "8                                6 o’clock Gin                                 \n",
       "9                                Abernathy Gin         Tenn South Distillery   \n",
       "\n",
       "                                                href rating  \n",
       "0    https://theginisin.com/gin-reviews/hashtag-gin/    2.5  \n",
       "1  https://theginisin.com/gin-reviews/100-mill-st...    4.5  \n",
       "2  https://theginisin.com/gin-reviews/100-mill-st...      4  \n",
       "3  https://theginisin.com/gin-reviews/1897-quinin...      3  \n",
       "4        https://theginisin.com/gin-reviews/269-gin/      3  \n",
       "5   https://theginisin.com/gin-reviews/3-queens-gin/    3.5  \n",
       "6       https://theginisin.com/gin-reviews/4312-gin/      4  \n",
       "7  https://theginisin.com/gin-reviews/50-fathoms-...    4.5  \n",
       "8   https://theginisin.com/gin-reviews/6-oclock-gin/      4  \n",
       "9  https://theginisin.com/gin-reviews/abernathy-gin/      3  "
      ]
     },
     "execution_count": 5,
     "metadata": {},
     "output_type": "execute_result"
    }
   ],
   "source": [
    "df.head(10)"
   ]
  },
  {
   "cell_type": "code",
   "execution_count": 6,
   "metadata": {},
   "outputs": [
    {
     "data": {
      "text/plain": [
       "<AxesSubplot:>"
      ]
     },
     "execution_count": 6,
     "metadata": {},
     "output_type": "execute_result"
    },
    {
     "data": {
      "image/png": "[encoded data removed]",
      "text/plain": [
       "<Figure size 432x288 with 1 Axes>"
      ]
     },
     "metadata": {
      "needs_background": "light"
     },
     "output_type": "display_data"
    }
   ],
   "source": [
    "df['rating'].value_counts().sort_index().plot(kind = \"bar\")"
   ]
  }
 ],
 "metadata": {
  "kernelspec": {
   "display_name": "Python 3.7.0 ('venv': venv)",
   "language": "python",
   "name": "python3"
  },
  "language_info": {
   "codemirror_mode": {
    "name": "ipython",
    "version": 3
   },
   "file_extension": ".py",
   "mimetype": "text/x-python",
   "name": "python",
   "nbconvert_exporter": "python",
   "pygments_lexer": "ipython3",
   "version": "3.7.0"
  },
  "orig_nbformat": 4,
  "vscode": {
   "interpreter": {
    "hash": "cc111308551ece6fbf267c1bc9882ea0250b6e610eaa35b497dd9d25609c2469"
   }
  }
 },
 "nbformat": 4,
 "nbformat_minor": 2
}
